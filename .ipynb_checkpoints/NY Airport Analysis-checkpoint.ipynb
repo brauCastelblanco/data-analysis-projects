{
 "cells": [
  {
   "cell_type": "markdown",
   "id": "2cfbb9c4",
   "metadata": {},
   "source": [
    "<h1>Newark international Airport's current capabilities</h1>"
   ]
  },
  {
   "cell_type": "code",
   "execution_count": 25,
   "id": "7b05fbc3",
   "metadata": {},
   "outputs": [],
   "source": [
    "import os\n",
    "import csv\n",
    "import pandas as pd\n",
    "import numpy as np\n",
    "import matplotlib.pyplot as plt\n",
    "\n",
    "%matplotlib inline"
   ]
  },
  {
   "cell_type": "code",
   "execution_count": 26,
   "id": "d5ebe440",
   "metadata": {},
   "outputs": [],
   "source": [
    "#This cell stores functions and methods useful across the analysis, like an utils files\n",
    "def sep_identifier(file_path):\n",
    "    \"\"\"Function to detect, collect and return the kind of \n",
    "    delimiter of each file\"\"\"\n",
    "    with open(file_path, encoding='utf-8') as csvfile:\n",
    "        dialect = csv.Sniffer().sniff(csvfile.read())\n",
    "        return dialect.delimiter"
   ]
  },
  {
   "cell_type": "markdown",
   "id": "7a8ea6fd",
   "metadata": {},
   "source": [
    "<h2>Exploratory Data Analysis</h2>"
   ]
  },
  {
   "cell_type": "code",
   "execution_count": 7,
   "id": "bf8fe9af",
   "metadata": {},
   "outputs": [],
   "source": [
    "path = './dataset/'"
   ]
  },
  {
   "cell_type": "code",
   "execution_count": 5,
   "id": "865b803d",
   "metadata": {},
   "outputs": [],
   "source": [
    "df = pd.read_csv(\"./dataset/nyc_airlines.csv\")"
   ]
  },
  {
   "cell_type": "code",
   "execution_count": 27,
   "id": "11a35c80",
   "metadata": {},
   "outputs": [],
   "source": [
    "dataframes = {}\n",
    "for file in os.listdir(path):\n",
    "    full_path = os.path.join(path, file)\n",
    "    if file.endswith('.csv'):\n",
    "        df = pd.read_csv(\n",
    "                filepath_or_buffer= full_path,\n",
    "                sep= sep_identifier(full_path))\n",
    "        name = file.split(\".\")[0]\n",
    "        dataframes[name] = df"
   ]
  },
  {
   "cell_type": "code",
   "execution_count": 35,
   "id": "f504374c",
   "metadata": {},
   "outputs": [
    {
     "data": {
      "text/plain": [
       "dict_keys(['nyc_weather', 'nyc_flights_fixed', 'nyc_planes', 'nyc_airlines', 'nyc_airports'])"
      ]
     },
     "execution_count": 35,
     "metadata": {},
     "output_type": "execute_result"
    }
   ],
   "source": [
    "#List of the dataframes names\n",
    "dataframes.keys()"
   ]
  },
  {
   "cell_type": "code",
   "execution_count": 38,
   "id": "599dee72",
   "metadata": {},
   "outputs": [
    {
     "data": {
      "text/html": [
       "<div>\n",
       "<style scoped>\n",
       "    .dataframe tbody tr th:only-of-type {\n",
       "        vertical-align: middle;\n",
       "    }\n",
       "\n",
       "    .dataframe tbody tr th {\n",
       "        vertical-align: top;\n",
       "    }\n",
       "\n",
       "    .dataframe thead th {\n",
       "        text-align: right;\n",
       "    }\n",
       "</style>\n",
       "<table border=\"1\" class=\"dataframe\">\n",
       "  <thead>\n",
       "    <tr style=\"text-align: right;\">\n",
       "      <th></th>\n",
       "      <th>origin</th>\n",
       "      <th>year</th>\n",
       "      <th>month</th>\n",
       "      <th>day</th>\n",
       "      <th>hour</th>\n",
       "      <th>temp</th>\n",
       "      <th>dewp</th>\n",
       "      <th>humid</th>\n",
       "      <th>wind_dir</th>\n",
       "      <th>wind_speed</th>\n",
       "      <th>wind_gust</th>\n",
       "      <th>precip</th>\n",
       "      <th>pressure</th>\n",
       "      <th>visib</th>\n",
       "      <th>time_hour</th>\n",
       "    </tr>\n",
       "  </thead>\n",
       "  <tbody>\n",
       "    <tr>\n",
       "      <th>0</th>\n",
       "      <td>EWR</td>\n",
       "      <td>2013</td>\n",
       "      <td>1</td>\n",
       "      <td>1</td>\n",
       "      <td>1</td>\n",
       "      <td>39.02</td>\n",
       "      <td>26.06</td>\n",
       "      <td>59.37</td>\n",
       "      <td>270.0</td>\n",
       "      <td>10.35702</td>\n",
       "      <td>NaN</td>\n",
       "      <td>0.0</td>\n",
       "      <td>1012.0</td>\n",
       "      <td>10.0</td>\n",
       "      <td>2013-01-01T06:00:00Z</td>\n",
       "    </tr>\n",
       "  </tbody>\n",
       "</table>\n",
       "</div>"
      ],
      "text/plain": [
       "  origin  year  month  day  hour   temp   dewp  humid  wind_dir  wind_speed  \\\n",
       "0    EWR  2013      1    1     1  39.02  26.06  59.37     270.0    10.35702   \n",
       "\n",
       "   wind_gust  precip  pressure  visib             time_hour  \n",
       "0        NaN     0.0    1012.0   10.0  2013-01-01T06:00:00Z  "
      ]
     },
     "execution_count": 38,
     "metadata": {},
     "output_type": "execute_result"
    }
   ],
   "source": [
    "dataframes['nyc_weather'].head(1)"
   ]
  },
  {
   "cell_type": "code",
   "execution_count": 43,
   "id": "bc670181",
   "metadata": {},
   "outputs": [
    {
     "data": {
      "text/html": [
       "<div>\n",
       "<style scoped>\n",
       "    .dataframe tbody tr th:only-of-type {\n",
       "        vertical-align: middle;\n",
       "    }\n",
       "\n",
       "    .dataframe tbody tr th {\n",
       "        vertical-align: top;\n",
       "    }\n",
       "\n",
       "    .dataframe thead th {\n",
       "        text-align: right;\n",
       "    }\n",
       "</style>\n",
       "<table border=\"1\" class=\"dataframe\">\n",
       "  <thead>\n",
       "    <tr style=\"text-align: right;\">\n",
       "      <th></th>\n",
       "      <th>faa</th>\n",
       "      <th>name</th>\n",
       "      <th>latitude</th>\n",
       "      <th>longitude</th>\n",
       "      <th>altitude</th>\n",
       "      <th>timezone</th>\n",
       "      <th>dst</th>\n",
       "      <th>timezone_name</th>\n",
       "    </tr>\n",
       "  </thead>\n",
       "  <tbody>\n",
       "    <tr>\n",
       "      <th>0</th>\n",
       "      <td>04G</td>\n",
       "      <td>Lansdowne Airport</td>\n",
       "      <td>41.130472</td>\n",
       "      <td>-80.619583</td>\n",
       "      <td>1044</td>\n",
       "      <td>-5</td>\n",
       "      <td>A</td>\n",
       "      <td>America/New_York</td>\n",
       "    </tr>\n",
       "    <tr>\n",
       "      <th>1</th>\n",
       "      <td>06A</td>\n",
       "      <td>Moton Field Municipal Airport</td>\n",
       "      <td>32.460572</td>\n",
       "      <td>-85.680028</td>\n",
       "      <td>264</td>\n",
       "      <td>-6</td>\n",
       "      <td>A</td>\n",
       "      <td>America/Chicago</td>\n",
       "    </tr>\n",
       "  </tbody>\n",
       "</table>\n",
       "</div>"
      ],
      "text/plain": [
       "   faa                           name   latitude  longitude  altitude  \\\n",
       "0  04G              Lansdowne Airport  41.130472 -80.619583      1044   \n",
       "1  06A  Moton Field Municipal Airport  32.460572 -85.680028       264   \n",
       "\n",
       "   timezone dst     timezone_name  \n",
       "0        -5   A  America/New_York  \n",
       "1        -6   A   America/Chicago  "
      ]
     },
     "execution_count": 43,
     "metadata": {},
     "output_type": "execute_result"
    }
   ],
   "source": [
    "dataframes['nyc_airports'].head(2)"
   ]
  },
  {
   "cell_type": "markdown",
   "id": "ddd7f844",
   "metadata": {},
   "source": [
    "<h2>Overall Pane</h2>\n",
    "<li>\n",
    "    <ul>1. Determine the number of distinct destinations connected to the airport.</ul>\n",
    "    <ul>2. Calculate the rounded average of distinct destinations for each day.</ul>\n",
    "    <ul>3. Calculate the average number of destinations per day of the week.</ul>\n",
    "    <ul>4. Identify the month with the highest number of flights.</ul>\n",
    "</li>"
   ]
  },
  {
   "cell_type": "code",
   "execution_count": 49,
   "id": "7fa985dc",
   "metadata": {},
   "outputs": [
    {
     "name": "stdout",
     "output_type": "stream",
     "text": [
      "The number of distinct destinations connected to the airport is: 1440\n"
     ]
    }
   ],
   "source": [
    "#1\n",
    "destinations = dataframes['nyc_airports']['name'].nunique()\n",
    "print(f\"The number of distinct destinations connected to the airport is: {destinations}\")"
   ]
  },
  {
   "cell_type": "code",
   "execution_count": null,
   "id": "5ca46597",
   "metadata": {},
   "outputs": [],
   "source": []
  }
 ],
 "metadata": {
  "kernelspec": {
   "display_name": "Python 3 (ipykernel)",
   "language": "python",
   "name": "python3"
  },
  "language_info": {
   "codemirror_mode": {
    "name": "ipython",
    "version": 3
   },
   "file_extension": ".py",
   "mimetype": "text/x-python",
   "name": "python",
   "nbconvert_exporter": "python",
   "pygments_lexer": "ipython3",
   "version": "3.11.5"
  }
 },
 "nbformat": 4,
 "nbformat_minor": 5
}
